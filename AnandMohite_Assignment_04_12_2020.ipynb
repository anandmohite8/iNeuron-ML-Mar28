{
 "cells": [
  {
   "cell_type": "markdown",
   "metadata": {},
   "source": [
    "1. Create the below pattern using nested for loop in Python.\n",
    "\n",
    "# *\n",
    "# * *\n",
    "# * * *\n",
    "# * * * *\n",
    "# * * * * *\n",
    "# * * * *\n",
    "# * * *\n",
    "# * *\n",
    "# *"
   ]
  },
  {
   "cell_type": "code",
   "execution_count": 3,
   "metadata": {},
   "outputs": [
    {
     "name": "stdout",
     "output_type": "stream",
     "text": [
      "\n",
      "* \n",
      "* * \n",
      "* * * \n",
      "* * * * \n",
      "* * * * * \n",
      "* * * * \n",
      "* * * \n",
      "* * \n",
      "* \n"
     ]
    }
   ],
   "source": [
    "max_range=5;\n",
    "#Print the Dots in forward direction\n",
    "for first_dot in range(max_range):\n",
    "    for sec_dot in range(first_dot):\n",
    "        print ('* ', end=\"\")\n",
    "    print('')\n",
    "\n",
    "#Print the Dots in backward direction\n",
    "for first_dot in range(max_range,0,-1):\n",
    "    for sec_dot in range(first_dot):\n",
    "        print('* ', end=\"\")\n",
    "    print('')"
   ]
  },
  {
   "cell_type": "markdown",
   "metadata": {},
   "source": [
    "2. Write a Python program to reverse a word after accepting the input from the user.\n",
    "\n",
    "Sample Output:\n",
    "\n",
    "Input word: ineuron\n",
    "\n",
    "Output: norueni"
   ]
  },
  {
   "cell_type": "code",
   "execution_count": 45,
   "metadata": {},
   "outputs": [
    {
     "name": "stdout",
     "output_type": "stream",
     "text": [
      "REKHA MOHITE\n",
      "############################## illustration using First Method ##############################\n",
      "The original string is : REKHA MOHITE\n",
      "The reversed string is : ETIHOM AHKER\n",
      "##########################################################################################\n",
      "############################## illustration using Second Method ##############################\n",
      "The original string is : REKHA MOHITE\n",
      "The reversed string is : ETIHOM AHKER\n"
     ]
    }
   ],
   "source": [
    "##############################################################################################################\n",
    "          ############################## illustration using First Method ##############################\n",
    "##############################################################################################################\n",
    "\n",
    "original_word=input()\n",
    "\n",
    "#Using a Loop in the function\n",
    "def reverse(original_word):\n",
    "  str = \"\" \n",
    "  for i in original_word: \n",
    "    str = i + str\n",
    "  return str\n",
    "\n",
    "print(\"############################## illustration using First Method ##############################\")\n",
    "\n",
    "print (\"The original string is : \",end=\"\") \n",
    "print (original_word) \n",
    "\n",
    "print (\"The reversed string is : \",end=\"\") \n",
    "print(reverse(original_word))\n",
    "\n",
    "print(\"##########################################################################################\")\n",
    "\n",
    "##############################################################################################################\n",
    "##############################################################################################################\n",
    "##############################################################################################################\n",
    "\n",
    "\n",
    "##############################################################################################################\n",
    "          ############################## illustration using Second Method #############################\n",
    "##############################################################################################################\n",
    "\n",
    "#Using a reverse technique used in the List \n",
    "def reverse(reversed_word): \n",
    "    reversed_word = reversed_word[::-1] \n",
    "    return reversed_word\n",
    "\n",
    "print(\"############################## illustration using Second Method ##############################\")\n",
    "\n",
    "print (\"The original string is : \",end=\"\") \n",
    "print (original_word) \n",
    "  \n",
    "print (\"The reversed string is : \",end=\"\") \n",
    "print (reverse(original_word))\n",
    "\n",
    "##############################################################################################################\n",
    "##############################################################################################################\n",
    "##############################################################################################################"
   ]
  },
  {
   "cell_type": "code",
   "execution_count": null,
   "metadata": {},
   "outputs": [],
   "source": []
  }
 ],
 "metadata": {
  "kernelspec": {
   "display_name": "Python 3",
   "language": "python",
   "name": "python3"
  },
  "language_info": {
   "codemirror_mode": {
    "name": "ipython",
    "version": 3
   },
   "file_extension": ".py",
   "mimetype": "text/x-python",
   "name": "python",
   "nbconvert_exporter": "python",
   "pygments_lexer": "ipython3",
   "version": "3.7.3"
  }
 },
 "nbformat": 4,
 "nbformat_minor": 2
}
