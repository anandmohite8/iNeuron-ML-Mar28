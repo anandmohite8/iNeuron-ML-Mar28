{
 "cells": [
  {
   "cell_type": "markdown",
   "metadata": {},
   "source": [
    "1.1 Write a Python Program to implement your own myreduce() function which works exactly\n",
    "like Python's built-in function reduce()"
   ]
  },
  {
   "cell_type": "code",
   "execution_count": 34,
   "metadata": {},
   "outputs": [
    {
     "name": "stdout",
     "output_type": "stream",
     "text": [
      "Sum of the items in the list [1,2,3,4] using custom reduce function (myreduce) is:-> 10\n"
     ]
    }
   ],
   "source": [
    "def myreduce(a_given_func, sequence):\n",
    "\n",
    " # Get first item from the list and assign it to the variable result to initialize its base value\n",
    "  result = sequence[0]\n",
    "\n",
    " # now would need to iterate over remaining items from the list and assign them to the reduce function \n",
    "  for item in sequence[1:]:\n",
    "        result = a_given_func(result, item)\n",
    "\n",
    "  # return final output\n",
    "  return result\n",
    "\n",
    "# define the actual function SUM to be tested under myreduce function\n",
    "def sum(x,y):\n",
    "    return x + y\n",
    "\n",
    "print (\"Sum of the items in the list [1,2,3,4] using custom reduce function (myreduce) is:-> \"   + str(myreduce(sum, [1,2,3,4])) )"
   ]
  },
  {
   "cell_type": "markdown",
   "metadata": {},
   "source": [
    "1.2 Write a Python program to implement your own myfilter() function which works exactly\n",
    "like Python's built-in function filter()"
   ]
  },
  {
   "cell_type": "code",
   "execution_count": 36,
   "metadata": {},
   "outputs": [
    {
     "name": "stdout",
     "output_type": "stream",
     "text": [
      "The senior citizens from a list of [10,20,66,85,77,95,60] using custom filter function are :-> [66, 85, 77, 95, 60]\n"
     ]
    }
   ],
   "source": [
    "def myfilter(a_given_func, sequence):\n",
    "\n",
    " # create an empty list\n",
    " result = []\n",
    "\n",
    " # now would need to iterate over items from the list and assign them to the myfilter function\n",
    " for item in sequence:\n",
    "        if a_given_func(item):\n",
    "            result.append(item)\n",
    "\n",
    "# return final output\n",
    " return result\n",
    "\n",
    "# define the actual function SEARCHSENIORCITIZENS to be tested under myfilter function\n",
    "def searchseniorcitizens(x):\n",
    "    if (x >= 60):\n",
    "        return True\n",
    "    else:\n",
    "        return False\n",
    "    \n",
    "print (\"The senior citizens from a list of [10,20,66,85,77,95,60] using custom filter function are :-> \"  + str(myfilter(searchseniorcitizens, [10,20,66,85,77,95,60])))"
   ]
  },
  {
   "cell_type": "markdown",
   "metadata": {},
   "source": [
    "2. Implement List comprehensions to produce the following lists.\n",
    "Write List comprehensions to produce the following Lists"
   ]
  },
  {
   "cell_type": "markdown",
   "metadata": {},
   "source": [
    "['x', 'xx', 'xxx', 'xxxx', 'y', 'yy', 'yyy', 'yyyy', 'z', 'zz', 'zzz', 'zzzz']"
   ]
  },
  {
   "cell_type": "code",
   "execution_count": 41,
   "metadata": {},
   "outputs": [
    {
     "name": "stdout",
     "output_type": "stream",
     "text": [
      "['x','y','z'] :-> ['x', 'xx', 'xxx', 'xxxx', 'y', 'yy', 'yyy', 'yyyy', 'z', 'zz', 'zzz', 'zzzz']\n"
     ]
    }
   ],
   "source": [
    "given_input_list = ['x','y','z']\n",
    "result = [item*i for item in given_input_list for i in range(1,5)]\n",
    "print(\"['x','y','z'] :-> \" +   str(result))"
   ]
  },
  {
   "cell_type": "markdown",
   "metadata": {},
   "source": [
    "['x', 'y', 'z', 'xx', 'yy', 'zz', 'xxx', 'yyy', 'zzz', 'xxxx', 'yyyy', 'zzzz']"
   ]
  },
  {
   "cell_type": "code",
   "execution_count": 42,
   "metadata": {},
   "outputs": [
    {
     "name": "stdout",
     "output_type": "stream",
     "text": [
      "['x','y','z'] :-> ['x', 'y', 'z', 'xx', 'yy', 'zz', 'xxx', 'yyy', 'zzz', 'xxxx', 'yyyy', 'zzzz']\n"
     ]
    }
   ],
   "source": [
    "given_input_list = ['x','y','z']\n",
    "result = [item*i for item in range(1,5) for i in given_input_list]\n",
    "print(\"['x','y','z'] :-> \" +   str(result))"
   ]
  },
  {
   "cell_type": "markdown",
   "metadata": {},
   "source": [
    "[[2], [3], [4], [3], [4], [5], [4], [5], [6]]"
   ]
  },
  {
   "cell_type": "code",
   "execution_count": 43,
   "metadata": {},
   "outputs": [
    {
     "name": "stdout",
     "output_type": "stream",
     "text": [
      "[2,3,4] :->[[2], [3], [4], [3], [4], [5], [4], [5], [6]]\n"
     ]
    }
   ],
   "source": [
    "given_input_list = [2,3,4]\n",
    "result = [[item+i] for item in given_input_list for i in range(0,3)]\n",
    "print(\"[2,3,4] :->\" +  str(result))"
   ]
  },
  {
   "cell_type": "markdown",
   "metadata": {},
   "source": [
    "[[2, 3, 4, 5], [3, 4, 5, 6],[4, 5, 6, 7], [5, 6, 7, 8]]"
   ]
  },
  {
   "cell_type": "code",
   "execution_count": 45,
   "metadata": {},
   "outputs": [
    {
     "name": "stdout",
     "output_type": "stream",
     "text": [
      "[2,3,4,5] =>[[2, 3, 4, 5], [3, 4, 5, 6], [4, 5, 6, 7], [5, 6, 7, 8]]\n"
     ]
    }
   ],
   "source": [
    "given_input_list = [2,3,4,5]\n",
    "result = [[item+i for item in given_input_list] for i in range(0,4)]\n",
    "print(\"[2,3,4,5] :->\" +  str(result))"
   ]
  },
  {
   "cell_type": "markdown",
   "metadata": {},
   "source": [
    "[(1, 1), (2, 1), (3, 1), (1, 2), (2, 2), (3, 2), (1, 3), (2, 3), (3, 3)]"
   ]
  },
  {
   "cell_type": "code",
   "execution_count": 48,
   "metadata": {},
   "outputs": [
    {
     "name": "stdout",
     "output_type": "stream",
     "text": [
      "[1,2,3] =>[(1, 1), (2, 1), (3, 1), (1, 2), (2, 2), (3, 2), (1, 3), (2, 3), (3, 3)]\n"
     ]
    }
   ],
   "source": [
    "given_input_list=[1,2,3]\n",
    "result = [(i,j) for j in given_input_list for i in given_input_list]\n",
    "print(\"[1,2,3] =>\" +  str(result))"
   ]
  },
  {
   "cell_type": "code",
   "execution_count": null,
   "metadata": {},
   "outputs": [],
   "source": []
  }
 ],
 "metadata": {
  "kernelspec": {
   "display_name": "Python 3",
   "language": "python",
   "name": "python3"
  },
  "language_info": {
   "codemirror_mode": {
    "name": "ipython",
    "version": 3
   },
   "file_extension": ".py",
   "mimetype": "text/x-python",
   "name": "python",
   "nbconvert_exporter": "python",
   "pygments_lexer": "ipython3",
   "version": "3.7.3"
  }
 },
 "nbformat": 4,
 "nbformat_minor": 2
}
