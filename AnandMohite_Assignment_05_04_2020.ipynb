{
 "cells": [
  {
   "cell_type": "markdown",
   "metadata": {},
   "source": [
    "1.1 Write a Python Program(with class concepts) to find the area of the triangle using the below\n",
    "formula.\n",
    "area = (s*(s-a)*(s-b)*(s-c)) ** 0.5\n",
    "Function to take the length of the sides of triangle from user should be defined in the parent\n",
    "class and function to calculate the area should be defined in subclass."
   ]
  },
  {
   "cell_type": "code",
   "execution_count": 21,
   "metadata": {},
   "outputs": [
    {
     "name": "stdout",
     "output_type": "stream",
     "text": [
      "Enter the value of First Side of a Triangle = 2\n",
      "Enter the value of Second Side of a Triangle = 2\n",
      "Enter the value of Third Side of a Triangle = 2\n",
      "area : 1.7320508075688772\n"
     ]
    }
   ],
   "source": [
    "class Triangle_Sides_Input:\n",
    "    \n",
    "    def __init__(self,First,Second,Third):\n",
    "        self.First = float(First)\n",
    "        self.Second = float(Second)\n",
    "        self.Third = float(Third)\n",
    "\n",
    "\n",
    "class Area_Of_a_Triangle(Triangle_Sides_Input):\n",
    "        \n",
    "    def area(self):\n",
    "        s=(self.First + self.Second + self.Third)/2\n",
    "        return((s*(s-self.First)*(s-self.Second)*(s-self.Third))**0.5)\n",
    "     \n",
    "\n",
    "FirstSide =input(\"Enter the value of First Side of a Triangle = \")\n",
    "SecondSide=input(\"Enter the value of Second Side of a Triangle = \")\n",
    "ThirdSide =input(\"Enter the value of Third Side of a Triangle = \")\n",
    "\n",
    "Triangle = Area_Of_a_Triangle (FirstSide, SecondSide, ThirdSide)\n",
    "\n",
    "print(\"area : {}\".format(Triangle.area()))"
   ]
  },
  {
   "cell_type": "markdown",
   "metadata": {},
   "source": [
    "1.2 Write a function filter_long_words() that takes a list of words and an integer n and returns\n",
    "the list of words that are longer than n."
   ]
  },
  {
   "cell_type": "code",
   "execution_count": 41,
   "metadata": {},
   "outputs": [
    {
     "name": "stdout",
     "output_type": "stream",
     "text": [
      "['Just', 'trying', 'this', 'function', 'really', 'works', 'fine!']\n"
     ]
    }
   ],
   "source": [
    "def filter_log_words(list_of_words, n):  \n",
    "    long_word_list = []  \n",
    "    split_list = list_of_words.split(\" \")  \n",
    "    for x in split_list:  \n",
    "        if len(x) > n:  \n",
    "            long_word_list.append(x)\n",
    "    return long_word_list\n",
    "\n",
    "\n",
    "print(filter_log_words(\"Just trying out this function to see if it really works fine!\", 3))"
   ]
  },
  {
   "cell_type": "markdown",
   "metadata": {},
   "source": [
    "2.1 Write a Python program using function concept that maps list of words into a list of integers\n",
    "representing the lengths of the corresponding words.\n",
    "Hint: If a list [ ab,cde,erty] is passed on to the python function output should come as [2,3,4]\n",
    "Here 2,3 and 4 are the lengths of the words in the list."
   ]
  },
  {
   "cell_type": "code",
   "execution_count": 42,
   "metadata": {},
   "outputs": [
    {
     "name": "stdout",
     "output_type": "stream",
     "text": [
      "for the given word list ['This', 'is', 'a', 'dummy', 'wordlist']  the length of the words has been mapped to [4, 2, 1, 5, 8]\n"
     ]
    }
   ],
   "source": [
    "def map_to_lengths_for(words):\n",
    "    lengths = []\n",
    "    for word in words:\n",
    "        lengths.append(len(word))\n",
    "    return lengths\n",
    "\n",
    "words = ['This','is','a','dummy','wordlist']\n",
    "\n",
    "print(\"for the given word list\", words, \" the length of the words has been mapped to\",map_to_lengths_for(words))"
   ]
  },
  {
   "cell_type": "markdown",
   "metadata": {},
   "source": [
    "2.2 Write a Python function which takes a character (i.e. a string of length 1) and returns True if\n",
    "it is a vowel, False otherwise."
   ]
  },
  {
   "cell_type": "code",
   "execution_count": 40,
   "metadata": {},
   "outputs": [
    {
     "name": "stdout",
     "output_type": "stream",
     "text": [
      "Please input a alphabet and Check if it is a vowel:- a\n",
      "True\n"
     ]
    }
   ],
   "source": [
    "def is_vowel(char):\n",
    "    list_vowels = ('a', 'e', 'i', 'o', 'u')\n",
    "    \n",
    "    if char not in list_vowels:\n",
    "        return False\n",
    "    return True\n",
    "\n",
    "print(is_vowel(input('Please input a alphabet and Check if it is a vowel:- ')))"
   ]
  }
 ],
 "metadata": {
  "kernelspec": {
   "display_name": "Python 3",
   "language": "python",
   "name": "python3"
  },
  "language_info": {
   "codemirror_mode": {
    "name": "ipython",
    "version": 3
   },
   "file_extension": ".py",
   "mimetype": "text/x-python",
   "name": "python",
   "nbconvert_exporter": "python",
   "pygments_lexer": "ipython3",
   "version": "3.7.7"
  }
 },
 "nbformat": 4,
 "nbformat_minor": 4
}
