{
 "cells": [
  {
   "cell_type": "markdown",
   "metadata": {},
   "source": [
    "Write a function so that the columns of the output matrix are powers of the input\n",
    "vector.\n",
    "The order of the powers is determined by the increasing boolean argument. Specifically, when\n",
    "increasing is False, the i-th output column is the input vector raised element-wise to the power\n",
    "of N - i - 1.\n",
    "\n",
    "HINT: Such a matrix with a geometric progression in each row is named for Alexandre-\n",
    "Theophile Vandermonde."
   ]
  },
  {
   "cell_type": "code",
   "execution_count": 58,
   "metadata": {},
   "outputs": [
    {
     "name": "stdout",
     "output_type": "stream",
     "text": [
      "The input array is: [1 2 3 4 5] \n",
      "\n",
      "Number of columns in output matrix are: 3 \n",
      "\n",
      "ATVandermonde matrix of the input array in decreasing order of powers is:-\n",
      " [[ 1  1  1]\n",
      " [ 4  2  1]\n",
      " [ 9  3  1]\n",
      " [16  4  1]\n",
      " [25  5  1]] \n",
      "\n",
      "ATVandermonde matrix of the input array in increasing order of powers is:-\n",
      " [[ 1  1  1]\n",
      " [ 1  2  4]\n",
      " [ 1  3  9]\n",
      " [ 1  4 16]\n",
      " [ 1  5 25]] \n",
      "\n"
     ]
    }
   ],
   "source": [
    "import numpy as np\n",
    "\n",
    "def build_ATVandermonde_Matrix(input_vector, n, increasing=False):\n",
    "    \n",
    "    if not increasing: #to print the output vector in an decreasing order\n",
    "        ouput_matrix = np.array([x**(n-i-1) for x in input_vector for i in range(n)]).reshape(input_vector.size,n)\n",
    "    elif increasing: #to print the output vector in an increasing order\n",
    "        ouput_matrix = np.array([x**i for x in input_vector for i in range(n)]).reshape(input_vector.size,n)\n",
    "    \n",
    "    return ouput_matrix\n",
    "\n",
    "\n",
    "# We will iterate over each number in the given input array which is in_vector and the the iteration count is n times \n",
    "# where in 'n' is the number of columns in the o/p matrix and output is an intermediate vector. \n",
    "\n",
    "in_vector = np.array([1,2,3,4,5])\n",
    "no_of_columns = 3\n",
    "op_matrix_in_decreasing_order = build_ATVandermonde_Matrix(in_vector,no_of_columns,False)\n",
    "op_matrix_in_increasing_order = build_ATVandermonde_Matrix(in_vector,no_of_columns,True)\n",
    "\n",
    "print(\"The input array is:\",in_vector,\"\\n\")\n",
    "print(\"Number of columns in output matrix are:\",no_of_columns,\"\\n\")\n",
    "print(\"ATVandermonde matrix of the input array in decreasing order of powers is:-\\n\",op_matrix_in_decreasing_order,\"\\n\")\n",
    "print(\"ATVandermonde matrix of the input array in increasing order of powers is:-\\n\",op_matrix_in_increasing_order,\"\\n\")"
   ]
  },
  {
   "cell_type": "markdown",
   "metadata": {},
   "source": [
    "Write a function to find moving average in an array over a window:\n",
    "Test it over [3, 5, 7, 2, 8, 10, 11, 65, 72, 81, 99, 100, 150] and window of 3."
   ]
  },
  {
   "cell_type": "code",
   "execution_count": 60,
   "metadata": {},
   "outputs": [
    {
     "name": "stdout",
     "output_type": "stream",
     "text": [
      "Moving average values list is:-  [5.0, 4.67, 5.67, 6.67, 9.67, 28.67, 49.33, 72.67, 84.0, 93.33, 116.33]\n",
      "Length of the input list is (n-k+1):-  11\n"
     ]
    }
   ],
   "source": [
    "def mov_avg (i_list, k):\n",
    "    tot_sum, moving_aves = [0], []\n",
    "    for i, x in enumerate(i_list, 1):\n",
    "        \n",
    "        tot_sum.append(tot_sum[i-1] + x) # summing up all the values one by one and appending it back to the list\n",
    "        \n",
    "        if i>=k:\n",
    "            temp_moving_ave = round(((tot_sum[i] - tot_sum[i-k])/k),2) #computing the moving avg\n",
    "            moving_aves.append(temp_moving_ave) # listing the moving average as an single array\n",
    "    \n",
    "    print(\"Moving average values list is:- \", str(moving_aves))\n",
    "    print(\"Length of the input list is (n-k+1):- \", len(moving_aves))\n",
    "    \n",
    "input_list = [3, 5, 7, 2, 8, 10, 11, 65, 72, 81, 99, 100, 150]\n",
    "k = 3\n",
    "\n",
    "mov_avg(input_list,k)"
   ]
  }
 ],
 "metadata": {
  "kernelspec": {
   "display_name": "Python 3",
   "language": "python",
   "name": "python3"
  },
  "language_info": {
   "codemirror_mode": {
    "name": "ipython",
    "version": 3
   },
   "file_extension": ".py",
   "mimetype": "text/x-python",
   "name": "python",
   "nbconvert_exporter": "python",
   "pygments_lexer": "ipython3",
   "version": "3.7.7"
  }
 },
 "nbformat": 4,
 "nbformat_minor": 4
}
